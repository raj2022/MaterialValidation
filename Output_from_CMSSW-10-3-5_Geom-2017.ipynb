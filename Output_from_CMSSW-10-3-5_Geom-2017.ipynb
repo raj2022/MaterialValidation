{
 "cells": [
  {
   "cell_type": "code",
   "execution_count": 1,
   "metadata": {},
   "outputs": [
    {
     "name": "stdout",
     "output_type": "stream",
     "text": [
      "Welcome to JupyROOT 6.20/06\n",
      "Using matplotlib backend: agg\n"
     ]
    }
   ],
   "source": [
    "import numpy as np\n",
    "import ROOT\n",
    "import uproot\n",
    "import os\n",
    "import matplotlib.pyplot as plt\n",
    "%matplotlib \n",
    "%matplotlib widget\n",
    "from ROOT import TFile, TCanvas, TPad, TPaveLabel, TPaveText, TTree, TH1F, TF1\n",
    "# from root_numpy import root2array, tree2array, array2tree, array2root\n",
    "import sys\n",
    "from ROOT import gROOT, AddressOf\n",
    "from ROOT import TColor\n",
    "# from root_numpy import root2array, rec2array"
   ]
  },
  {
   "cell_type": "code",
   "execution_count": 4,
   "metadata": {},
   "outputs": [],
   "source": [
    "file_O= '/eos/user/s/sraj/Work_/CUA_20--/Project_Material_Validation_V1/matbdg_Tracker.root'"
   ]
  },
  {
   "cell_type": "code",
   "execution_count": 4,
   "metadata": {},
   "outputs": [],
   "source": [
    "g = uproot.open(\"/eos/user/s/sraj/Work_/CUA_20--/Project_Material_Validation_V1/matbdg_Tracker.root\")"
   ]
  },
  {
   "cell_type": "code",
   "execution_count": 5,
   "metadata": {
    "scrolled": false
   },
   "outputs": [],
   "source": [
    "g.classnames();"
   ]
  },
  {
   "cell_type": "code",
   "execution_count": 6,
   "metadata": {},
   "outputs": [
    {
     "data": {
      "text/plain": [
       "[<b'TH1F' b'11' 0x7f6893884b90>,\n",
       " <b'TH1F' b'21' 0x7f68937ff050>,\n",
       " <b'TH1F' b'41' 0x7f68937ff2f0>,\n",
       " <b'TH1F' b'111' 0x7f68937ff590>,\n",
       " <b'TH1F' b'121' 0x7f68937ff830>,\n",
       " <b'TH1F' b'141' 0x7f68937ffad0>,\n",
       " <b'TH1F' b'211' 0x7f68937ffd70>,\n",
       " <b'TH1F' b'221' 0x7f6893814050>,\n",
       " <b'TH1F' b'241' 0x7f68938142f0>,\n",
       " <b'TH1F' b'311' 0x7f6893814590>,\n",
       " <b'TH1F' b'321' 0x7f6893814830>,\n",
       " <b'TH1F' b'341' 0x7f6893814ad0>,\n",
       " <b'TH1F' b'411' 0x7f6893814d70>,\n",
       " <b'TH1F' b'421' 0x7f6893884dd0>,\n",
       " <b'TH1F' b'441' 0x7f6893829290>,\n",
       " <b'TH1F' b'511' 0x7f6893829530>,\n",
       " <b'TH1F' b'521' 0x7f68938297d0>,\n",
       " <b'TH1F' b'541' 0x7f6893829a70>,\n",
       " <b'TH1F' b'611' 0x7f6893829d10>,\n",
       " <b'TH1F' b'621' 0x7f6893829fb0>,\n",
       " <b'TH1F' b'641' 0x7f68937bd290>,\n",
       " <b'TH1F' b'711' 0x7f68937bd530>,\n",
       " <b'TH1F' b'721' 0x7f68937bd7d0>,\n",
       " <b'TH1F' b'741' 0x7f68937bda70>,\n",
       " <b'TH1F' b'1011' 0x7f68937bdd10>,\n",
       " <b'TH1F' b'1021' 0x7f68937bdfb0>,\n",
       " <b'TH1F' b'1041' 0x7f68937d1290>,\n",
       " <b'TH1F' b'1111' 0x7f68937d1530>,\n",
       " <b'TH1F' b'1121' 0x7f68937d17d0>,\n",
       " <b'TH1F' b'1141' 0x7f68937d1a70>,\n",
       " <b'TH1F' b'1211' 0x7f68937d1d10>,\n",
       " <b'TH1F' b'1221' 0x7f68937d1e30>,\n",
       " <b'TH1F' b'1241' 0x7f68937e7110>,\n",
       " <b'TH1F' b'1311' 0x7f68937e73b0>,\n",
       " <b'TH1F' b'1321' 0x7f68937e7650>,\n",
       " <b'TH1F' b'1341' 0x7f68937e78f0>,\n",
       " <b'TH1F' b'1411' 0x7f68937e7b90>,\n",
       " <b'TH1F' b'1421' 0x7f68937e7e30>,\n",
       " <b'TH1F' b'1441' 0x7f689377b110>,\n",
       " <b'TH1F' b'1511' 0x7f689377b3b0>,\n",
       " <b'TH1F' b'1521' 0x7f689377b650>,\n",
       " <b'TH1F' b'1541' 0x7f689377b8f0>,\n",
       " <b'TH1F' b'1611' 0x7f689377bb90>,\n",
       " <b'TH1F' b'1621' 0x7f689377be30>,\n",
       " <b'TH1F' b'1641' 0x7f689378f110>,\n",
       " <b'TH1F' b'1711' 0x7f689378f3b0>,\n",
       " <b'TH1F' b'1721' 0x7f689378f650>,\n",
       " <b'TH1F' b'1741' 0x7f689378f8f0>,\n",
       " <b'TH2F' b'31' 0x7f689378fb90>,\n",
       " <b'TH2F' b'51' 0x7f689378fe30>,\n",
       " <b'TH2F' b'60' 0x7f6893477110>,\n",
       " <b'TH2F' b'61' 0x7f68934773b0>,\n",
       " <b'TH2F' b'131' 0x7f6893477650>,\n",
       " <b'TH2F' b'151' 0x7f68934778f0>,\n",
       " <b'TH2F' b'160' 0x7f6893477b90>,\n",
       " <b'TH2F' b'161' 0x7f6893477e30>,\n",
       " <b'TH2F' b'231' 0x7f688c363110>,\n",
       " <b'TH2F' b'251' 0x7f688c3633b0>,\n",
       " <b'TH2F' b'260' 0x7f688c363650>,\n",
       " <b'TH2F' b'261' 0x7f688c3638f0>,\n",
       " <b'TH2F' b'331' 0x7f688c363b90>,\n",
       " <b'TH2F' b'351' 0x7f688c363e30>,\n",
       " <b'TH2F' b'360' 0x7f6886fa8110>,\n",
       " <b'TH2F' b'361' 0x7f6886fa83b0>,\n",
       " <b'TH2F' b'431' 0x7f6886fa8650>,\n",
       " <b'TH2F' b'451' 0x7f6886fa88f0>,\n",
       " <b'TH2F' b'460' 0x7f6886fa8b90>,\n",
       " <b'TH2F' b'461' 0x7f6886fa8e30>,\n",
       " <b'TH2F' b'531' 0x7f687fe95110>,\n",
       " <b'TH2F' b'551' 0x7f687fe953b0>,\n",
       " <b'TH2F' b'560' 0x7f687fe95650>,\n",
       " <b'TH2F' b'561' 0x7f687fe958f0>,\n",
       " <b'TH2F' b'631' 0x7f687fe95b90>,\n",
       " <b'TH2F' b'651' 0x7f687fe95e30>,\n",
       " <b'TH2F' b'660' 0x7f687aa5b110>,\n",
       " <b'TH2F' b'661' 0x7f687aa5b3b0>,\n",
       " <b'TH2F' b'731' 0x7f687aa5b650>,\n",
       " <b'TH2F' b'751' 0x7f687aa5b8f0>,\n",
       " <b'TH2F' b'760' 0x7f687aa5bb90>,\n",
       " <b'TH2F' b'761' 0x7f687aa5be30>,\n",
       " <b'TH2F' b'999' 0x7f6873946110>,\n",
       " <b'TH2F' b'1031' 0x7f68739463b0>,\n",
       " <b'TH2F' b'1051' 0x7f6873946650>,\n",
       " <b'TH2F' b'1060' 0x7f68739468f0>,\n",
       " <b'TH2F' b'1061' 0x7f6873946b90>,\n",
       " <b'TH2F' b'1131' 0x7f6873946e30>,\n",
       " <b'TH2F' b'1151' 0x7f686c832110>,\n",
       " <b'TH2F' b'1160' 0x7f686c8323b0>,\n",
       " <b'TH2F' b'1161' 0x7f686c832650>,\n",
       " <b'TH2F' b'1231' 0x7f686c8328f0>,\n",
       " <b'TH2F' b'1251' 0x7f686c832b90>,\n",
       " <b'TH2F' b'1260' 0x7f686c832e30>,\n",
       " <b'TH2F' b'1261' 0x7f68673f9110>,\n",
       " <b'TH2F' b'1331' 0x7f68673f93b0>,\n",
       " <b'TH2F' b'1351' 0x7f68673f9650>,\n",
       " <b'TH2F' b'1360' 0x7f68673f98f0>,\n",
       " <b'TH2F' b'1361' 0x7f68673f9b90>,\n",
       " <b'TH2F' b'1431' 0x7f68673f9e30>,\n",
       " <b'TH2F' b'1451' 0x7f68602e4110>,\n",
       " <b'TH2F' b'1460' 0x7f68602e43b0>,\n",
       " <b'TH2F' b'1461' 0x7f68602e4650>,\n",
       " <b'TH2F' b'1531' 0x7f68602e48f0>,\n",
       " <b'TH2F' b'1551' 0x7f68602e4b90>,\n",
       " <b'TH2F' b'1560' 0x7f68602e4e30>,\n",
       " <b'TH2F' b'1561' 0x7f685af2a110>,\n",
       " <b'TH2F' b'1631' 0x7f685af2a3b0>,\n",
       " <b'TH2F' b'1651' 0x7f685af2a650>,\n",
       " <b'TH2F' b'1660' 0x7f685af2a8f0>,\n",
       " <b'TH2F' b'1661' 0x7f685af2ab90>,\n",
       " <b'TH2F' b'1731' 0x7f685af2ae30>,\n",
       " <b'TH2F' b'1751' 0x7f6853e16110>,\n",
       " <b'TH2F' b'1760' 0x7f6853e163b0>,\n",
       " <b'TH2F' b'1761' 0x7f6853e16650>,\n",
       " <b'TH2F' b'1999' 0x7f6853e168f0>,\n",
       " <b'TProfile' b'10' 0x7f6853e16b90>,\n",
       " <b'TProfile' b'20' 0x7f6853e16ef0>,\n",
       " <b'TProfile' b'40' 0x7f684dc2a290>,\n",
       " <b'TProfile' b'110' 0x7f684dc2a5f0>,\n",
       " <b'TProfile' b'120' 0x7f684dc2a950>,\n",
       " <b'TProfile' b'140' 0x7f684dc2acb0>,\n",
       " <b'TProfile' b'210' 0x7f684dc49050>,\n",
       " <b'TProfile' b'220' 0x7f684dc493b0>,\n",
       " <b'TProfile' b'240' 0x7f684dc49710>,\n",
       " <b'TProfile' b'310' 0x7f684dc49a70>,\n",
       " <b'TProfile' b'320' 0x7f684dc49dd0>,\n",
       " <b'TProfile' b'340' 0x7f684dbe5170>,\n",
       " <b'TProfile' b'410' 0x7f684dbe54d0>,\n",
       " <b'TProfile' b'420' 0x7f684dbe5830>,\n",
       " <b'TProfile' b'440' 0x7f684dbe5b90>,\n",
       " <b'TProfile' b'510' 0x7f684dbe5ef0>,\n",
       " <b'TProfile' b'520' 0x7f684dc00290>,\n",
       " <b'TProfile' b'540' 0x7f684dc005f0>,\n",
       " <b'TProfile' b'610' 0x7f684dc00950>,\n",
       " <b'TProfile' b'620' 0x7f684dc00cb0>,\n",
       " <b'TProfile' b'640' 0x7f684dba1050>,\n",
       " <b'TProfile' b'710' 0x7f684dba13b0>,\n",
       " <b'TProfile' b'720' 0x7f684dba1710>,\n",
       " <b'TProfile' b'740' 0x7f684dba1a70>,\n",
       " <b'TProfile' b'1010' 0x7f684dba1dd0>,\n",
       " <b'TProfile' b'1020' 0x7f684dbbc170>,\n",
       " <b'TProfile' b'1040' 0x7f684dbbc4d0>,\n",
       " <b'TProfile' b'1110' 0x7f684dbbc830>,\n",
       " <b'TProfile' b'1120' 0x7f684dbbcb90>,\n",
       " <b'TProfile' b'1140' 0x7f684dbbcef0>,\n",
       " <b'TProfile' b'1210' 0x7f684db5a290>,\n",
       " <b'TProfile' b'1220' 0x7f684db5a5f0>,\n",
       " <b'TProfile' b'1240' 0x7f684db5a950>,\n",
       " <b'TProfile' b'1310' 0x7f684db5acb0>,\n",
       " <b'TProfile' b'1320' 0x7f684db79050>,\n",
       " <b'TProfile' b'1340' 0x7f684db793b0>,\n",
       " <b'TProfile' b'1410' 0x7f684db79710>,\n",
       " <b'TProfile' b'1420' 0x7f684db79a70>,\n",
       " <b'TProfile' b'1440' 0x7f684db79dd0>,\n",
       " <b'TProfile' b'1510' 0x7f684db13170>,\n",
       " <b'TProfile' b'1520' 0x7f684db134d0>,\n",
       " <b'TProfile' b'1540' 0x7f684db13830>,\n",
       " <b'TProfile' b'1610' 0x7f684db13b90>,\n",
       " <b'TProfile' b'1620' 0x7f684db13ef0>,\n",
       " <b'TProfile' b'1640' 0x7f684db32290>,\n",
       " <b'TProfile' b'1710' 0x7f684db325f0>,\n",
       " <b'TProfile' b'1720' 0x7f684db32950>,\n",
       " <b'TProfile' b'1740' 0x7f684db32cb0>,\n",
       " <b'TProfile2D' b'30' 0x7f684dad0050>,\n",
       " <b'TProfile2D' b'50' 0x7f684dad03b0>,\n",
       " <b'TProfile2D' b'130' 0x7f684dad0710>,\n",
       " <b'TProfile2D' b'150' 0x7f684dad0a70>,\n",
       " <b'TProfile2D' b'230' 0x7f684dad0dd0>,\n",
       " <b'TProfile2D' b'250' 0x7f684693f170>,\n",
       " <b'TProfile2D' b'330' 0x7f684693f4d0>,\n",
       " <b'TProfile2D' b'350' 0x7f684693f830>,\n",
       " <b'TProfile2D' b'430' 0x7f684693fb90>,\n",
       " <b'TProfile2D' b'450' 0x7f684693fef0>,\n",
       " <b'TProfile2D' b'530' 0x7f683f7dc290>,\n",
       " <b'TProfile2D' b'550' 0x7f683f7dc5f0>,\n",
       " <b'TProfile2D' b'630' 0x7f683f7dc950>,\n",
       " <b'TProfile2D' b'650' 0x7f683f7dccb0>,\n",
       " <b'TProfile2D' b'730' 0x7f68356fe050>,\n",
       " <b'TProfile2D' b'750' 0x7f68356fe3b0>,\n",
       " <b'TProfile2D' b'1030' 0x7f68356fe710>,\n",
       " <b'TProfile2D' b'1050' 0x7f68356fea70>,\n",
       " <b'TProfile2D' b'1130' 0x7f68356fedd0>,\n",
       " <b'TProfile2D' b'1150' 0x7f682e570170>,\n",
       " <b'TProfile2D' b'1230' 0x7f682e5704d0>,\n",
       " <b'TProfile2D' b'1250' 0x7f682e570830>,\n",
       " <b'TProfile2D' b'1330' 0x7f682e570b90>,\n",
       " <b'TProfile2D' b'1350' 0x7f682e570ef0>,\n",
       " <b'TProfile2D' b'1430' 0x7f682738c290>,\n",
       " <b'TProfile2D' b'1450' 0x7f682738c5f0>,\n",
       " <b'TProfile2D' b'1530' 0x7f682738c950>,\n",
       " <b'TProfile2D' b'1550' 0x7f682738ccb0>,\n",
       " <b'TProfile2D' b'1630' 0x7f681d2ae050>,\n",
       " <b'TProfile2D' b'1650' 0x7f681d2ae3b0>,\n",
       " <b'TProfile2D' b'1730' 0x7f681d2ae710>,\n",
       " <b'TProfile2D' b'1750' 0x7f681d2aea70>]"
      ]
     },
     "execution_count": 6,
     "metadata": {},
     "output_type": "execute_result"
    }
   ],
   "source": [
    "g.values()"
   ]
  },
  {
   "cell_type": "code",
   "execution_count": 7,
   "metadata": {},
   "outputs": [],
   "source": [
    "k = np.array(g[\"120\"])"
   ]
  },
  {
   "cell_type": "code",
   "execution_count": 8,
   "metadata": {},
   "outputs": [
    {
     "data": {
      "text/plain": [
       "[b'11;1',\n",
       " b'21;1',\n",
       " b'41;1',\n",
       " b'111;1',\n",
       " b'121;1',\n",
       " b'141;1',\n",
       " b'211;1',\n",
       " b'221;1',\n",
       " b'241;1',\n",
       " b'311;1',\n",
       " b'321;1',\n",
       " b'341;1',\n",
       " b'411;1',\n",
       " b'421;1',\n",
       " b'441;1',\n",
       " b'511;1',\n",
       " b'521;1',\n",
       " b'541;1',\n",
       " b'611;1',\n",
       " b'621;1',\n",
       " b'641;1',\n",
       " b'711;1',\n",
       " b'721;1',\n",
       " b'741;1',\n",
       " b'1011;1',\n",
       " b'1021;1',\n",
       " b'1041;1',\n",
       " b'1111;1',\n",
       " b'1121;1',\n",
       " b'1141;1',\n",
       " b'1211;1',\n",
       " b'1221;1',\n",
       " b'1241;1',\n",
       " b'1311;1',\n",
       " b'1321;1',\n",
       " b'1341;1',\n",
       " b'1411;1',\n",
       " b'1421;1',\n",
       " b'1441;1',\n",
       " b'1511;1',\n",
       " b'1521;1',\n",
       " b'1541;1',\n",
       " b'1611;1',\n",
       " b'1621;1',\n",
       " b'1641;1',\n",
       " b'1711;1',\n",
       " b'1721;1',\n",
       " b'1741;1',\n",
       " b'31;1',\n",
       " b'51;1',\n",
       " b'60;1',\n",
       " b'61;1',\n",
       " b'131;1',\n",
       " b'151;1',\n",
       " b'160;1',\n",
       " b'161;1',\n",
       " b'231;1',\n",
       " b'251;1',\n",
       " b'260;1',\n",
       " b'261;1',\n",
       " b'331;1',\n",
       " b'351;1',\n",
       " b'360;1',\n",
       " b'361;1',\n",
       " b'431;1',\n",
       " b'451;1',\n",
       " b'460;1',\n",
       " b'461;1',\n",
       " b'531;1',\n",
       " b'551;1',\n",
       " b'560;1',\n",
       " b'561;1',\n",
       " b'631;1',\n",
       " b'651;1',\n",
       " b'660;1',\n",
       " b'661;1',\n",
       " b'731;1',\n",
       " b'751;1',\n",
       " b'760;1',\n",
       " b'761;1',\n",
       " b'999;1',\n",
       " b'1031;1',\n",
       " b'1051;1',\n",
       " b'1060;1',\n",
       " b'1061;1',\n",
       " b'1131;1',\n",
       " b'1151;1',\n",
       " b'1160;1',\n",
       " b'1161;1',\n",
       " b'1231;1',\n",
       " b'1251;1',\n",
       " b'1260;1',\n",
       " b'1261;1',\n",
       " b'1331;1',\n",
       " b'1351;1',\n",
       " b'1360;1',\n",
       " b'1361;1',\n",
       " b'1431;1',\n",
       " b'1451;1',\n",
       " b'1460;1',\n",
       " b'1461;1',\n",
       " b'1531;1',\n",
       " b'1551;1',\n",
       " b'1560;1',\n",
       " b'1561;1',\n",
       " b'1631;1',\n",
       " b'1651;1',\n",
       " b'1660;1',\n",
       " b'1661;1',\n",
       " b'1731;1',\n",
       " b'1751;1',\n",
       " b'1760;1',\n",
       " b'1761;1',\n",
       " b'1999;1',\n",
       " b'10;1',\n",
       " b'20;1',\n",
       " b'40;1',\n",
       " b'110;1',\n",
       " b'120;1',\n",
       " b'140;1',\n",
       " b'210;1',\n",
       " b'220;1',\n",
       " b'240;1',\n",
       " b'310;1',\n",
       " b'320;1',\n",
       " b'340;1',\n",
       " b'410;1',\n",
       " b'420;1',\n",
       " b'440;1',\n",
       " b'510;1',\n",
       " b'520;1',\n",
       " b'540;1',\n",
       " b'610;1',\n",
       " b'620;1',\n",
       " b'640;1',\n",
       " b'710;1',\n",
       " b'720;1',\n",
       " b'740;1',\n",
       " b'1010;1',\n",
       " b'1020;1',\n",
       " b'1040;1',\n",
       " b'1110;1',\n",
       " b'1120;1',\n",
       " b'1140;1',\n",
       " b'1210;1',\n",
       " b'1220;1',\n",
       " b'1240;1',\n",
       " b'1310;1',\n",
       " b'1320;1',\n",
       " b'1340;1',\n",
       " b'1410;1',\n",
       " b'1420;1',\n",
       " b'1440;1',\n",
       " b'1510;1',\n",
       " b'1520;1',\n",
       " b'1540;1',\n",
       " b'1610;1',\n",
       " b'1620;1',\n",
       " b'1640;1',\n",
       " b'1710;1',\n",
       " b'1720;1',\n",
       " b'1740;1',\n",
       " b'30;1',\n",
       " b'50;1',\n",
       " b'130;1',\n",
       " b'150;1',\n",
       " b'230;1',\n",
       " b'250;1',\n",
       " b'330;1',\n",
       " b'350;1',\n",
       " b'430;1',\n",
       " b'450;1',\n",
       " b'530;1',\n",
       " b'550;1',\n",
       " b'630;1',\n",
       " b'650;1',\n",
       " b'730;1',\n",
       " b'750;1',\n",
       " b'1030;1',\n",
       " b'1050;1',\n",
       " b'1130;1',\n",
       " b'1150;1',\n",
       " b'1230;1',\n",
       " b'1250;1',\n",
       " b'1330;1',\n",
       " b'1350;1',\n",
       " b'1430;1',\n",
       " b'1450;1',\n",
       " b'1530;1',\n",
       " b'1550;1',\n",
       " b'1630;1',\n",
       " b'1650;1',\n",
       " b'1730;1',\n",
       " b'1750;1']"
      ]
     },
     "execution_count": 8,
     "metadata": {},
     "output_type": "execute_result"
    }
   ],
   "source": [
    "g.keys()"
   ]
  },
  {
   "cell_type": "code",
   "execution_count": 9,
   "metadata": {},
   "outputs": [
    {
     "data": {
      "text/plain": [
       "[<matplotlib.lines.Line2D at 0x7f68a6556f10>]"
      ]
     },
     "execution_count": 9,
     "metadata": {},
     "output_type": "execute_result"
    },
    {
     "data": {
      "image/png": "[encoded data removed]",
      "text/plain": [
       "<Figure size 432x288 with 1 Axes>"
      ]
     },
     "metadata": {
      "needs_background": "light"
     },
     "output_type": "display_data"
    }
   ],
   "source": [
    "plt.plot(g[\"120\"])"
   ]
  },
  {
   "cell_type": "markdown",
   "metadata": {},
   "source": [
    "* 720  - x/x_0 vs Phi(Air)\n",
    "* 620  - x/x_0 vs Phi(Other)\n",
    "* 520  - x/x_0 vs Phi(Electronics)\n",
    "* 420  - x/x_0 vs Phi (Cooling)\n",
    "* 320  - x/x_0 vs Phi (Cables)\n",
    "* 220  - x/x_0 vs Phi (Sensetive)\n",
    "* 120 - x/x_0 vs Phi(Support)\n",
    "\n",
    "\n",
    "\n",
    "* 710  - x/x_0 vs eta (Air)\n",
    "* 610  - x/x_0 vs eta (Other)\n",
    "* 510  - x/x_0 vs eta (Electronics)\n",
    "* 410  - x/x_0 vs eta (Cooling)\n",
    "* 310  - x/x_0 vs eta (Cables)\n",
    "* 210  - x/x_0 vs eta (Sensetive)\n",
    "* 110  - x/x_0 vs eta (Support)"
   ]
  },
  {
   "cell_type": "markdown",
   "metadata": {},
   "source": [
    "# Plot with respect to $\\phi$\n",
    "Following are the plots for $X/X_0$ with respect to $\\phi$.\n",
    "* 720  - x/x_0 vs eta (Air)\n",
    "* 620  - x/x_0 vs eta (Other)\n",
    "* 520  - x/x_0 vs eta (Electronics)\n",
    "* 420  - x/x_0 vs eta (Cooling)\n",
    "* 320  - x/x_0 vs eta (Cables)\n",
    "* 220  - x/x_0 vs eta (Sensetive)\n",
    "* 120  - x/x_0 vs eta (Support)"
   ]
  },
  {
   "cell_type": "code",
   "execution_count": 10,
   "metadata": {},
   "outputs": [
    {
     "data": {
      "image/png": "[encoded data removed]",
      "text/plain": [
       "<Figure size 432x288 with 1 Axes>"
      ]
     },
     "metadata": {
      "needs_background": "light"
     },
     "output_type": "display_data"
    }
   ],
   "source": [
    "plt.hist(g[\"120\"], bins=80, histtype='step', alpha=0.5, color='blue', density=False);\n",
    "plt.tick_params('x')\n",
    "plt.xlim(-1,19)\n",
    "plt.rcParams[\"figure.figsize\"] = [7.00, 3.50]\n",
    "plt.rcParams[\"figure.autolayout\"] = True\n",
    "plt.tick_params('x')\n",
    "plt.title(\"$X/X_0$ vs $\\phi$(Support)\", fontsize=18)\n",
    "plt.ylabel(\"$X/X_0$\", fontsize = 18)\n",
    "plt.xlabel(\"$\\phi$\",  fontsize = 18)# plt.grid(True)\n",
    "plt.grid(True,linestyle = '-', linewidth=0.1)\n",
    "# plt.grid(True)\n",
    "# plt.yscale('log')"
   ]
  },
  {
   "cell_type": "code",
   "execution_count": 11,
   "metadata": {},
   "outputs": [
    {
     "data": {
      "image/png": "[encoded data removed]",
      "text/plain": [
       "<Figure size 504x252 with 1 Axes>"
      ]
     },
     "metadata": {
      "needs_background": "light"
     },
     "output_type": "display_data"
    }
   ],
   "source": [
    "plt.hist(g[\"220\"], bins=80, histtype='step', alpha=0.5, color='green', density=False);\n",
    "plt.tick_params('x')\n",
    "plt.xlim(-5,6)\n",
    "\n",
    "plt.rcParams[\"figure.figsize\"] = [7.00, 3.50]\n",
    "plt.rcParams[\"figure.autolayout\"] = True\n",
    "plt.tick_params('x')\n",
    "plt.title(\"$X/X_0$ vs $\\phi$(Sensitive)\", fontsize=18)\n",
    "plt.ylabel(\"$X/X_0$\", fontsize = 18)\n",
    "plt.xlabel(\"$\\phi$\",  fontsize = 18)# plt.grid(True)\n",
    "plt.grid(True,linestyle = '-', linewidth=0.1)\n",
    "# plt.grid(True)\n",
    "# plt.yscale('log')"
   ]
  },
  {
   "cell_type": "code",
   "execution_count": 12,
   "metadata": {},
   "outputs": [
    {
     "data": {
      "image/png": "[encoded data removed]",
      "text/plain": [
       "<Figure size 504x252 with 1 Axes>"
      ]
     },
     "metadata": {
      "needs_background": "light"
     },
     "output_type": "display_data"
    }
   ],
   "source": [
    "plt.hist(g[\"320\"], bins=80, histtype='step', alpha=0.5, color='red', density=False);\n",
    "plt.tick_params('x')\n",
    "plt.xlim(-1,22)\n",
    "\n",
    "plt.rcParams[\"figure.figsize\"] = [7.00, 3.50]\n",
    "plt.rcParams[\"figure.autolayout\"] = True\n",
    "plt.tick_params('x')\n",
    "plt.title(\"$X/X_0$ vs $\\phi$(Cables)\", fontsize=18)\n",
    "plt.ylabel(\"$X/X_0$\", fontsize = 18)\n",
    "plt.xlabel(\"$\\phi$\",  fontsize = 18)# plt.grid(True)\n",
    "plt.grid(True,linestyle = '-', linewidth=0.1)\n",
    "# plt.grid(True)\n",
    "# plt.yscale('log')"
   ]
  },
  {
   "cell_type": "code",
   "execution_count": 13,
   "metadata": {},
   "outputs": [
    {
     "data": {
      "image/png": "[encoded data removed]",
      "text/plain": [
       "<Figure size 504x252 with 1 Axes>"
      ]
     },
     "metadata": {
      "needs_background": "light"
     },
     "output_type": "display_data"
    }
   ],
   "source": [
    "plt.hist(g[\"420\"], bins=80, histtype='step', alpha=0.5, color='green', density=False);\n",
    "plt.tick_params('x')\n",
    "plt.xlim(-1,12)\n",
    "# plt.ylim(0,20)\n",
    "\n",
    "plt.rcParams[\"figure.figsize\"] = [7.00, 3.50]\n",
    "plt.rcParams[\"figure.autolayout\"] = True\n",
    "plt.tick_params('x')\n",
    "plt.title(\"$X/X_0$ vs $\\phi$(Cooling)\", fontsize=18)\n",
    "plt.ylabel(\"$X/X_0$\", fontsize = 18)\n",
    "plt.xlabel(\"$\\phi$\",  fontsize = 18)# plt.grid(True)\n",
    "plt.grid(True,linestyle = '-', linewidth=0.1)\n",
    "# plt.grid(True)\n",
    "# plt.yscale('log')"
   ]
  },
  {
   "cell_type": "code",
   "execution_count": 14,
   "metadata": {},
   "outputs": [
    {
     "data": {
      "image/png": "[encoded data removed]",
      "text/plain": [
       "<Figure size 504x252 with 1 Axes>"
      ]
     },
     "metadata": {
      "needs_background": "light"
     },
     "output_type": "display_data"
    }
   ],
   "source": [
    "plt.hist(g[\"520\"], bins=80, histtype='step', alpha=0.5, color='blue', density=False);\n",
    "plt.tick_params('x')\n",
    "plt.xlim(-1,13)\n",
    "plt.rcParams[\"figure.figsize\"] = [7.00, 3.50]\n",
    "plt.rcParams[\"figure.autolayout\"] = True\n",
    "plt.tick_params('x')\n",
    "plt.title(\"$X/X_0$ vs $\\phi$(Electronics)\", fontsize=18)\n",
    "plt.ylabel(\"$X/X_0$\", fontsize = 18)\n",
    "plt.xlabel(\"$\\phi$\",  fontsize = 18)# plt.grid(True)\n",
    "plt.grid(True,linestyle = '-', linewidth=0.1)\n",
    "# plt.grid(True)\n",
    "# plt.yscale('log')"
   ]
  },
  {
   "cell_type": "code",
   "execution_count": 15,
   "metadata": {},
   "outputs": [
    {
     "data": {
      "image/png": "[encoded data removed]",
      "text/plain": [
       "<Figure size 504x252 with 1 Axes>"
      ]
     },
     "metadata": {
      "needs_background": "light"
     },
     "output_type": "display_data"
    }
   ],
   "source": [
    "plt.hist(g[\"620\"], bins=80, histtype='step', alpha=0.5, color='blue', density=False);\n",
    "plt.tick_params('x')\n",
    "plt.xlim(-1,20)\n",
    "\n",
    "plt.rcParams[\"figure.figsize\"] = [7.00, 3.50]\n",
    "plt.rcParams[\"figure.autolayout\"] = True\n",
    "plt.tick_params('x')\n",
    "plt.title(\"$X/X_0$ vs $\\phi$(Other)\", fontsize=18)\n",
    "plt.ylabel(\"$X/X_0$\", fontsize = 18)\n",
    "plt.xlabel(\"$\\phi$\",  fontsize = 18)# plt.grid(True)\n",
    "plt.grid(True,linestyle = '-', linewidth=0.1)\n",
    "# plt.grid(True)\n",
    "# plt.yscale('log')"
   ]
  },
  {
   "cell_type": "code",
   "execution_count": 16,
   "metadata": {},
   "outputs": [
    {
     "data": {
      "image/png": "[encoded data removed]",
      "text/plain": [
       "<Figure size 504x252 with 1 Axes>"
      ]
     },
     "metadata": {
      "needs_background": "light"
     },
     "output_type": "display_data"
    }
   ],
   "source": [
    "plt.hist(g[\"720\"], bins=80, histtype='step', alpha=0.5, color='blue', density=False);\n",
    "plt.tick_params('x')\n",
    "plt.xlim(0.1,0.5)\n",
    "plt.rcParams[\"figure.figsize\"] = [7.00, 3.50]\n",
    "plt.rcParams[\"figure.autolayout\"] = True\n",
    "plt.tick_params('x')\n",
    "plt.title(\"$X/X_0$ vs $\\phi$(Air)\", fontsize=18)\n",
    "plt.ylabel(\"$X/X_0$\", fontsize = 18)\n",
    "plt.xlabel(\"$\\phi$\",  fontsize = 18)# plt.grid(True)\n",
    "plt.grid(True,linestyle = '-', linewidth=0.1)\n",
    "# plt.grid(True)\n",
    "# plt.yscale('log')"
   ]
  },
  {
   "cell_type": "code",
   "execution_count": 17,
   "metadata": {},
   "outputs": [
    {
     "data": {
      "image/png": "[encoded data removed]",
      "text/plain": [
       "<Figure size 504x252 with 1 Axes>"
      ]
     },
     "metadata": {
      "needs_background": "light"
     },
     "output_type": "display_data"
    }
   ],
   "source": [
    "plt.hist(g[\"120\"], bins=80, histtype='stepfilled', alpha=0.5, color='blue', density=False);\n",
    "plt.hist(g[\"220\"], bins=80, histtype='stepfilled', alpha=0.5, color='green', density=False);\n",
    "plt.hist(g[\"320\"], bins=80, histtype='stepfilled', alpha=0.5, color='red', density=False);\n",
    "plt.hist(g[\"420\"], bins=80, histtype='stepfilled', alpha=0.5, color='green', density=False);\n",
    "plt.hist(g[\"520\"], bins=80, histtype='stepfilled', alpha=0.5, color='blue', density=False);\n",
    "plt.hist(g[\"620\"], bins=80, histtype='stepfilled', alpha=0.5, color='blue', density=False);\n",
    "plt.hist(g[\"720\"], bins=80, histtype='stepfilled', alpha=0.5, color='blue', density=False);\n"
   ]
  },
  {
   "cell_type": "markdown",
   "metadata": {},
   "source": [
    "# Plot with respect to $\\eta$\n",
    "Following are the plots for $X/X_0$ with respect to $\\eta$.\n",
    "* 710  - x/x_0 vs eta (Air)\n",
    "* 610  - x/x_0 vs eta (Other)\n",
    "* 510  - x/x_0 vs eta (Electronics)\n",
    "* 410  - x/x_0 vs eta (Cooling)\n",
    "* 310  - x/x_0 vs eta (Cables)\n",
    "* 210  - x/x_0 vs eta (Sensetive)\n",
    "* 110  - x/x_0 vs eta (Support)"
   ]
  },
  {
   "cell_type": "code",
   "execution_count": 18,
   "metadata": {},
   "outputs": [
    {
     "data": {
      "image/png": "[encoded data removed]",
      "text/plain": [
       "<Figure size 504x252 with 1 Axes>"
      ]
     },
     "metadata": {
      "needs_background": "light"
     },
     "output_type": "display_data"
    }
   ],
   "source": [
    "plt.hist(g[\"710\"], bins=70, histtype='step', alpha=0.5, color='black', density=False);\n",
    "plt.tick_params('x')\n",
    "plt.xlim(-0.01,0.45)\n",
    "plt.rcParams[\"figure.figsize\"] = [7.00, 3.50]\n",
    "plt.rcParams[\"figure.autolayout\"] = True\n",
    "plt.tick_params('x')\n",
    "plt.title(\"$X/X_0$ vs $\\eta$(Air)\", fontsize=18)\n",
    "plt.ylabel(\"$X/X_0$\", fontsize = 18)\n",
    "plt.xlabel(\"$\\eta$\",  fontsize = 18)# plt.grid(True)\n",
    "plt.grid(True,linestyle = '-', linewidth=0.1)\n",
    "# plt.grid(True)\n",
    "# plt.yscale('log')"
   ]
  },
  {
   "cell_type": "code",
   "execution_count": 19,
   "metadata": {},
   "outputs": [
    {
     "data": {
      "image/png": "[encoded data removed]",
      "text/plain": [
       "<Figure size 504x252 with 1 Axes>"
      ]
     },
     "metadata": {
      "needs_background": "light"
     },
     "output_type": "display_data"
    }
   ],
   "source": [
    "plt.hist(g[\"610\"], bins=80, histtype='step', alpha=0.5, color='blue', density=False);\n",
    "plt.tick_params('x')\n",
    "plt.xlim(-1,27)\n",
    "plt.rcParams[\"figure.figsize\"] = [7.00, 3.50]\n",
    "plt.rcParams[\"figure.autolayout\"] = True\n",
    "plt.tick_params('x')\n",
    "plt.title(\"$X/X_0$ vs $\\eta$(Other)\", fontsize=18)\n",
    "plt.ylabel(\"$X/X_0$\", fontsize = 18)\n",
    "plt.xlabel(\"$\\eta$\",  fontsize = 18)# plt.grid(True)\n",
    "plt.grid(True,linestyle = '-', linewidth=0.1)\n",
    "# plt.grid(True)\n",
    "plt.yscale('log')"
   ]
  },
  {
   "cell_type": "code",
   "execution_count": 20,
   "metadata": {},
   "outputs": [
    {
     "data": {
      "image/png": "[encoded data removed]",
      "text/plain": [
       "<Figure size 504x252 with 1 Axes>"
      ]
     },
     "metadata": {
      "needs_background": "light"
     },
     "output_type": "display_data"
    }
   ],
   "source": [
    "plt.hist(g[\"520\"], bins=80, histtype='step', alpha=0.5, color='blue', density=False);\n",
    "plt.tick_params('x')\n",
    "plt.xlim(-1,13)\n",
    "plt.rcParams[\"figure.figsize\"] = [7.00, 3.50]\n",
    "plt.rcParams[\"figure.autolayout\"] = True\n",
    "plt.tick_params('x')\n",
    "plt.title(\"$X/X_0$ vs $\\eta$(Electronics)\", fontsize=18)\n",
    "plt.ylabel(\"$X/X_0$\", fontsize = 18)\n",
    "plt.xlabel(\"$\\eta$\",  fontsize = 18)# plt.grid(True)\n",
    "plt.grid(True,linestyle = '-', linewidth=0.1)\n",
    "# plt.grid(True)\n",
    "# plt.yscale('log')"
   ]
  },
  {
   "cell_type": "code",
   "execution_count": 21,
   "metadata": {},
   "outputs": [
    {
     "data": {
      "image/png": "[encoded data removed]",
      "text/plain": [
       "<Figure size 504x252 with 1 Axes>"
      ]
     },
     "metadata": {
      "needs_background": "light"
     },
     "output_type": "display_data"
    }
   ],
   "source": [
    "plt.hist(g[\"410\"], bins=80, histtype='step', alpha=0.5, color='green', density=False);\n",
    "plt.tick_params('x')\n",
    "plt.xlim(-1,15)\n",
    "# plt.ylim(0,20)\n",
    "plt.rcParams[\"figure.figsize\"] = [7.00, 3.50]\n",
    "plt.rcParams[\"figure.autolayout\"] = True\n",
    "plt.tick_params('x')\n",
    "plt.title(\"$X/X_0$ vs $\\eta$(Cooling)\", fontsize = 18)\n",
    "plt.ylabel(\"$X/X_0$\", fontsize = 18)\n",
    "plt.xlabel(\"$\\eta$\",  fontsize = 18)# plt.grid(True)\n",
    "plt.grid(True,linestyle = '-', linewidth=0.1)\n",
    "plt.yscale('log')\n",
    "# plt.grid(True)\n",
    "# plt.yscale('log')"
   ]
  },
  {
   "cell_type": "code",
   "execution_count": 22,
   "metadata": {},
   "outputs": [
    {
     "data": {
      "image/png": "[encoded data removed]",
      "text/plain": [
       "<Figure size 504x252 with 1 Axes>"
      ]
     },
     "metadata": {
      "needs_background": "light"
     },
     "output_type": "display_data"
    }
   ],
   "source": [
    "plt.hist(g[\"310\"], bins=80, histtype='step', alpha=1, color='red', density=False);\n",
    "plt.tick_params('x')\n",
    "plt.xlim(-1,25)\n",
    "plt.rcParams[\"figure.figsize\"] = [7.00, 3.50]\n",
    "plt.rcParams[\"figure.autolayout\"] = True\n",
    "plt.tick_params('x')\n",
    "plt.title(\"$X/X_0$ vs $\\eta$(Cables)\", fontsize = 18)\n",
    "plt.ylabel(\"$X/X_0$\", fontsize = 18)\n",
    "plt.xlabel(\"$\\eta$\",  fontsize = 18)# plt.grid(True)\n",
    "plt.grid(True,linestyle = '-', linewidth=0.1)\n",
    "plt.yscale('log')\n",
    "# plt.grid(True)\n",
    "# plt.yscale('log')"
   ]
  },
  {
   "cell_type": "code",
   "execution_count": 23,
   "metadata": {},
   "outputs": [
    {
     "data": {
      "image/png": "[encoded data removed]",
      "text/plain": [
       "<Figure size 504x252 with 1 Axes>"
      ]
     },
     "metadata": {
      "needs_background": "light"
     },
     "output_type": "display_data"
    }
   ],
   "source": [
    "plt.hist(g[\"210\"], bins=80, histtype='step', alpha=1, color='navy', density=False);\n",
    "plt.rcParams[\"figure.figsize\"] = [7.00, 3.50]\n",
    "plt.rcParams[\"figure.autolayout\"] = True\n",
    "plt.tick_params('x')\n",
    "plt.xlim(-0.9,8)\n",
    "plt.title(\"$X/X_0$ vs $\\eta$(Sensitive)\", fontsize = 18)\n",
    "plt.ylabel(\"$X/X_0$\", fontsize = 18)\n",
    "plt.xlabel(\"$\\eta$\",  fontsize = 18)# plt.grid(True)\n",
    "plt.grid(True,linestyle = '-', linewidth=0.1)\n",
    "plt.yscale('log')"
   ]
  },
  {
   "cell_type": "code",
   "execution_count": 24,
   "metadata": {},
   "outputs": [
    {
     "data": {
      "image/png": "[encoded data removed]",
      "text/plain": [
       "<Figure size 504x252 with 1 Axes>"
      ]
     },
     "metadata": {
      "needs_background": "light"
     },
     "output_type": "display_data"
    }
   ],
   "source": [
    "plt.hist(g[\"110\"], bins=50, histtype='step', density=False);\n",
    "plt.rcParams[\"figure.figsize\"] = [7.00, 3.50]\n",
    "plt.rcParams[\"figure.autolayout\"] = True\n",
    "\n",
    "plt.tick_params('x')\n",
    "plt.xlim(-1,26)\n",
    "plt.title(\"$X/X_0$ vs $\\eta$(Support)\", fontsize = 18)\n",
    "plt.ylabel(\"$X/X_0$\", fontsize = 18)\n",
    "plt.xlabel(\"$\\eta$\",  fontsize = 18)\n",
    "\n",
    "plt.grid(True,linestyle = '-', linewidth=0.1)\n",
    "# plt.savefig('/eos/user/s/sraj/Work_/CUA_20--/Project_Material_Validation_V1/CMSSW_10_3_5_All_components/ X_over_X_0_eta(Support).pdf')\n",
    "# plt.savefig('/eos/user/s/sraj/Work_/CUA_20--/Project_Material_Validation_V1/CMSSW_10_3_5_All_components/ X_over_X_0_eta(Support).png')\n",
    "plt.show()\n",
    "# plt.yscale('log')"
   ]
  },
  {
   "cell_type": "markdown",
   "metadata": {},
   "source": [
    "## Stack plot"
   ]
  },
  {
   "cell_type": "code",
   "execution_count": 25,
   "metadata": {},
   "outputs": [],
   "source": [
    "eta_120 = np.array(g[\"120\"])\n",
    "eta_220 = np.array(g[\"220\"])\n",
    "eta_320 = np.array(g[\"320\"])\n",
    "eta_420 = np.array(g[\"420\"])\n",
    "eta_520 = np.array(g[\"520\"])\n",
    "eta_620 = np.array(g[\"620\"])\n",
    "eta_720 = np.array(g[\"720\"])\n",
    "\n",
    "\n",
    "phi_110 = np.array(g[\"110\"])\n",
    "phi_210 = np.array(g[\"210\"])\n",
    "phi_310 = np.array(g[\"310\"])\n",
    "phi_410 = np.array(g[\"410\"])\n",
    "phi_510 = np.array(g[\"510\"])\n",
    "phi_610 = np.array(g[\"610\"])\n",
    "phi_710 = np.array(g[\"710\"])"
   ]
  },
  {
   "cell_type": "code",
   "execution_count": 26,
   "metadata": {},
   "outputs": [
    {
     "data": {
      "image/png": "[encoded data removed]",
      "text/plain": [
       "<Figure size 504x252 with 1 Axes>"
      ]
     },
     "metadata": {
      "needs_background": "light"
     },
     "output_type": "display_data"
    }
   ],
   "source": [
    "plt.hist([phi_110, phi_210, phi_310,phi_410], histtype='step',bins=100);"
   ]
  },
  {
   "cell_type": "code",
   "execution_count": 27,
   "metadata": {},
   "outputs": [
    {
     "data": {
      "text/plain": [
       "<matplotlib.legend.Legend at 0x7f68162618d0>"
      ]
     },
     "execution_count": 27,
     "metadata": {},
     "output_type": "execute_result"
    },
    {
     "data": {
      "image/png": "[encoded data removed]",
      "text/plain": [
       "<Figure size 504x252 with 1 Axes>"
      ]
     },
     "metadata": {
      "needs_background": "light"
     },
     "output_type": "display_data"
    }
   ],
   "source": [
    "h,e,p = plt.hist(phi_110, bins =100, histtype='step', label = 'Support', color= 'purple', alpha=1)\n",
    "plt.hist(phi_210, bins=e, histtype='step', label = 'Sensitive', color= 'red', alpha=1);\n",
    "plt.legend()"
   ]
  },
  {
   "cell_type": "code",
   "execution_count": 28,
   "metadata": {},
   "outputs": [
    {
     "data": {
      "image/png": "[encoded data removed]",
      "text/plain": [
       "<Figure size 504x252 with 1 Axes>"
      ]
     },
     "metadata": {
      "needs_background": "light"
     },
     "output_type": "display_data"
    }
   ],
   "source": [
    "plt.hist(eta_120, bins=50, histtype='step');"
   ]
  },
  {
   "cell_type": "markdown",
   "metadata": {},
   "source": [
    "The plot you have made on the python alone doesn’t make sense. You need to compare both CMSSW versions. Please also show a ratio plot.\n"
   ]
  },
  {
   "cell_type": "markdown",
   "metadata": {},
   "source": [
    "File from CMSSW_12_4_14 for Geometry2017plan1 and comapre it with file from CMSSW_10_3_5"
   ]
  },
  {
   "cell_type": "code",
   "execution_count": 29,
   "metadata": {},
   "outputs": [],
   "source": [
    "file_11 = uproot.open(\"/afs/cern.ch/user/s/sraj/GeometryTask/CMSSW_12_4_14/src/Validation/Geometry/test/matbdg_Tracker_Extended2017Plan1.root\")"
   ]
  },
  {
   "cell_type": "code",
   "execution_count": 30,
   "metadata": {},
   "outputs": [
    {
     "data": {
      "text/plain": [
       "[b'11;1',\n",
       " b'21;1',\n",
       " b'41;1',\n",
       " b'111;1',\n",
       " b'121;1',\n",
       " b'141;1',\n",
       " b'211;1',\n",
       " b'221;1',\n",
       " b'241;1',\n",
       " b'311;1',\n",
       " b'321;1',\n",
       " b'341;1',\n",
       " b'411;1',\n",
       " b'421;1',\n",
       " b'441;1',\n",
       " b'511;1',\n",
       " b'521;1',\n",
       " b'541;1',\n",
       " b'611;1',\n",
       " b'621;1',\n",
       " b'641;1',\n",
       " b'711;1',\n",
       " b'721;1',\n",
       " b'741;1',\n",
       " b'1011;1',\n",
       " b'1021;1',\n",
       " b'1041;1',\n",
       " b'1111;1',\n",
       " b'1121;1',\n",
       " b'1141;1',\n",
       " b'1211;1',\n",
       " b'1221;1',\n",
       " b'1241;1',\n",
       " b'1311;1',\n",
       " b'1321;1',\n",
       " b'1341;1',\n",
       " b'1411;1',\n",
       " b'1421;1',\n",
       " b'1441;1',\n",
       " b'1511;1',\n",
       " b'1521;1',\n",
       " b'1541;1',\n",
       " b'1611;1',\n",
       " b'1621;1',\n",
       " b'1641;1',\n",
       " b'1711;1',\n",
       " b'1721;1',\n",
       " b'1741;1',\n",
       " b'31;1',\n",
       " b'51;1',\n",
       " b'60;1',\n",
       " b'61;1',\n",
       " b'131;1',\n",
       " b'151;1',\n",
       " b'160;1',\n",
       " b'161;1',\n",
       " b'231;1',\n",
       " b'251;1',\n",
       " b'260;1',\n",
       " b'261;1',\n",
       " b'331;1',\n",
       " b'351;1',\n",
       " b'360;1',\n",
       " b'361;1',\n",
       " b'431;1',\n",
       " b'451;1',\n",
       " b'460;1',\n",
       " b'461;1',\n",
       " b'531;1',\n",
       " b'551;1',\n",
       " b'560;1',\n",
       " b'561;1',\n",
       " b'631;1',\n",
       " b'651;1',\n",
       " b'660;1',\n",
       " b'661;1',\n",
       " b'731;1',\n",
       " b'751;1',\n",
       " b'760;1',\n",
       " b'761;1',\n",
       " b'999;1',\n",
       " b'1031;1',\n",
       " b'1051;1',\n",
       " b'1060;1',\n",
       " b'1061;1',\n",
       " b'1131;1',\n",
       " b'1151;1',\n",
       " b'1160;1',\n",
       " b'1161;1',\n",
       " b'1231;1',\n",
       " b'1251;1',\n",
       " b'1260;1',\n",
       " b'1261;1',\n",
       " b'1331;1',\n",
       " b'1351;1',\n",
       " b'1360;1',\n",
       " b'1361;1',\n",
       " b'1431;1',\n",
       " b'1451;1',\n",
       " b'1460;1',\n",
       " b'1461;1',\n",
       " b'1531;1',\n",
       " b'1551;1',\n",
       " b'1560;1',\n",
       " b'1561;1',\n",
       " b'1631;1',\n",
       " b'1651;1',\n",
       " b'1660;1',\n",
       " b'1661;1',\n",
       " b'1731;1',\n",
       " b'1751;1',\n",
       " b'1760;1',\n",
       " b'1761;1',\n",
       " b'1999;1',\n",
       " b'10;1',\n",
       " b'20;1',\n",
       " b'40;1',\n",
       " b'110;1',\n",
       " b'120;1',\n",
       " b'140;1',\n",
       " b'210;1',\n",
       " b'220;1',\n",
       " b'240;1',\n",
       " b'310;1',\n",
       " b'320;1',\n",
       " b'340;1',\n",
       " b'410;1',\n",
       " b'420;1',\n",
       " b'440;1',\n",
       " b'510;1',\n",
       " b'520;1',\n",
       " b'540;1',\n",
       " b'610;1',\n",
       " b'620;1',\n",
       " b'640;1',\n",
       " b'710;1',\n",
       " b'720;1',\n",
       " b'740;1',\n",
       " b'1010;1',\n",
       " b'1020;1',\n",
       " b'1040;1',\n",
       " b'1110;1',\n",
       " b'1120;1',\n",
       " b'1140;1',\n",
       " b'1210;1',\n",
       " b'1220;1',\n",
       " b'1240;1',\n",
       " b'1310;1',\n",
       " b'1320;1',\n",
       " b'1340;1',\n",
       " b'1410;1',\n",
       " b'1420;1',\n",
       " b'1440;1',\n",
       " b'1510;1',\n",
       " b'1520;1',\n",
       " b'1540;1',\n",
       " b'1610;1',\n",
       " b'1620;1',\n",
       " b'1640;1',\n",
       " b'1710;1',\n",
       " b'1720;1',\n",
       " b'1740;1',\n",
       " b'30;1',\n",
       " b'50;1',\n",
       " b'130;1',\n",
       " b'150;1',\n",
       " b'230;1',\n",
       " b'250;1',\n",
       " b'330;1',\n",
       " b'350;1',\n",
       " b'430;1',\n",
       " b'450;1',\n",
       " b'530;1',\n",
       " b'550;1',\n",
       " b'630;1',\n",
       " b'650;1',\n",
       " b'730;1',\n",
       " b'750;1',\n",
       " b'1030;1',\n",
       " b'1050;1',\n",
       " b'1130;1',\n",
       " b'1150;1',\n",
       " b'1230;1',\n",
       " b'1250;1',\n",
       " b'1330;1',\n",
       " b'1350;1',\n",
       " b'1430;1',\n",
       " b'1450;1',\n",
       " b'1530;1',\n",
       " b'1550;1',\n",
       " b'1630;1',\n",
       " b'1650;1',\n",
       " b'1730;1',\n",
       " b'1750;1']"
      ]
     },
     "execution_count": 30,
     "metadata": {},
     "output_type": "execute_result"
    }
   ],
   "source": [
    "file_11.keys()"
   ]
  },
  {
   "cell_type": "code",
   "execution_count": 31,
   "metadata": {},
   "outputs": [],
   "source": [
    "eta_120 = np.array(file_11[\"120\"])\n",
    "eta_220 = np.array(file_11[\"220\"])\n",
    "eta_320 = np.array(file_11[\"320\"])\n",
    "eta_420 = np.array(file_11[\"420\"])\n",
    "eta_520 = np.array(file_11[\"520\"])\n",
    "eta_620 = np.array(file_11[\"620\"])\n",
    "eta_720 = np.array(file_11[\"720\"])\n",
    "\n",
    "\n",
    "phi_110 = np.array(file_11[\"110\"])\n",
    "phi_210 = np.array(file_11[\"210\"])\n",
    "phi_310 = np.array(file_11[\"310\"])\n",
    "phi_410 = np.array(file_11[\"410\"])\n",
    "phi_510 = np.array(file_11[\"510\"])\n",
    "phi_610 = np.array(file_11[\"610\"])\n",
    "phi_710 = np.array(file_11[\"710\"])"
   ]
  },
  {
   "cell_type": "code",
   "execution_count": 32,
   "metadata": {
    "scrolled": true
   },
   "outputs": [
    {
     "data": {
      "image/png": "[encoded data removed]",
      "text/plain": [
       "<Figure size 504x252 with 1 Axes>"
      ]
     },
     "metadata": {
      "needs_background": "light"
     },
     "output_type": "display_data"
    }
   ],
   "source": [
    "plt.hist(eta_120, bins=50, histtype='step');"
   ]
  },
  {
   "cell_type": "code",
   "execution_count": 33,
   "metadata": {},
   "outputs": [],
   "source": [
    "import sys,os"
   ]
  },
  {
   "cell_type": "code",
   "execution_count": 10,
   "metadata": {},
   "outputs": [],
   "source": [
    "stack_I = ROOT.THStack(\"\",\"\")\n",
    "ROOT.gROOT.SetBatch()\n",
    "ROOT.gStyle.SetOptStat(0)"
   ]
  },
  {
   "cell_type": "code",
   "execution_count": 11,
   "metadata": {},
   "outputs": [
    {
     "name": "stdout",
     "output_type": "stream",
     "text": [
      "TFile**\t\t/afs/cern.ch/user/s/sraj/GeometryTask/CMSSW_12_4_14/src/Validation/Geometry/test/matbdg_Tracker_Extended2017Plan1.root\t\n",
      " TFile*\t\t/afs/cern.ch/user/s/sraj/GeometryTask/CMSSW_12_4_14/src/Validation/Geometry/test/matbdg_Tracker_Extended2017Plan1.root\t\n",
      "  KEY: TH1F\t11;1\tEta \n",
      "  KEY: TH1F\t21;1\tPhi \n",
      "  KEY: TH1F\t41;1\tR \n",
      "  KEY: TH1F\t111;1\tEta [Support]\n",
      "  KEY: TH1F\t121;1\tPhi [Support]\n",
      "  KEY: TH1F\t141;1\tR [Support]\n",
      "  KEY: TH1F\t211;1\tEta [Sensitive]\n",
      "  KEY: TH1F\t221;1\tPhi [Sensitive]\n",
      "  KEY: TH1F\t241;1\tR [Sensitive]\n",
      "  KEY: TH1F\t311;1\tEta [Cables]\n",
      "  KEY: TH1F\t321;1\tPhi [Cables]\n",
      "  KEY: TH1F\t341;1\tR [Cables]\n",
      "  KEY: TH1F\t411;1\tEta [Cooling]\n",
      "  KEY: TH1F\t421;1\tPhi [Cooling]\n",
      "  KEY: TH1F\t441;1\tR [Cooling]\n",
      "  KEY: TH1F\t511;1\tEta [Electronics]\n",
      "  KEY: TH1F\t521;1\tPhi [Electronics]\n",
      "  KEY: TH1F\t541;1\tR [Electronics]\n",
      "  KEY: TH1F\t611;1\tEta [Other]\n",
      "  KEY: TH1F\t621;1\tPhi [Other]\n",
      "  KEY: TH1F\t641;1\tR [Other]\n",
      "  KEY: TH1F\t711;1\tEta [Air]\n",
      "  KEY: TH1F\t721;1\tPhi [Air]\n",
      "  KEY: TH1F\t741;1\tR [Air]\n",
      "  KEY: TH1F\t1011;1\tEta \n",
      "  KEY: TH1F\t1021;1\tPhi \n",
      "  KEY: TH1F\t1041;1\tR \n",
      "  KEY: TH1F\t1111;1\tEta [Support]\n",
      "  KEY: TH1F\t1121;1\tPhi [Support]\n",
      "  KEY: TH1F\t1141;1\tR [Support]\n",
      "  KEY: TH1F\t1211;1\tEta [Sensitive]\n",
      "  KEY: TH1F\t1221;1\tPhi [Sensitive]\n",
      "  KEY: TH1F\t1241;1\tR [Sensitive]\n",
      "  KEY: TH1F\t1311;1\tEta [Cables]\n",
      "  KEY: TH1F\t1321;1\tPhi [Cables]\n",
      "  KEY: TH1F\t1341;1\tR [Cables]\n",
      "  KEY: TH1F\t1411;1\tEta [Cooling]\n",
      "  KEY: TH1F\t1421;1\tPhi [Cooling]\n",
      "  KEY: TH1F\t1441;1\tR [Cooling]\n",
      "  KEY: TH1F\t1511;1\tEta [Electronics]\n",
      "  KEY: TH1F\t1521;1\tPhi [Electronics]\n",
      "  KEY: TH1F\t1541;1\tR [Electronics]\n",
      "  KEY: TH1F\t1611;1\tEta [Other]\n",
      "  KEY: TH1F\t1621;1\tPhi [Other]\n",
      "  KEY: TH1F\t1641;1\tR [Other]\n",
      "  KEY: TH1F\t1711;1\tEta [Air]\n",
      "  KEY: TH1F\t1721;1\tPhi [Air]\n",
      "  KEY: TH1F\t1741;1\tR [Air]\n",
      "  KEY: TH2F\t31;1\tEta vs Phi \n",
      "  KEY: TH2F\t51;1\tR vs z \n",
      "  KEY: TH2F\t60;1\tMB prof local R  z\n",
      "  KEY: TH2F\t61;1\tR vs z \n",
      "  KEY: TH2F\t131;1\tEta vs Phi [Support]\n",
      "  KEY: TH2F\t151;1\tR vs z [Support]\n",
      "  KEY: TH2F\t160;1\tMB prof local R  z [Support]\n",
      "  KEY: TH2F\t161;1\tR vs z [Support]\n",
      "  KEY: TH2F\t231;1\tEta vs Phi [Sensitive]\n",
      "  KEY: TH2F\t251;1\tR vs z [Sensitive]\n",
      "  KEY: TH2F\t260;1\tMB prof local R  z [Sensitive]\n",
      "  KEY: TH2F\t261;1\tR vs z [Sensitive]\n",
      "  KEY: TH2F\t331;1\tEta vs Phi [Cables]\n",
      "  KEY: TH2F\t351;1\tR vs z [Cables]\n",
      "  KEY: TH2F\t360;1\tMB prof local R  z [Cables]\n",
      "  KEY: TH2F\t361;1\tR vs z [Cables]\n",
      "  KEY: TH2F\t431;1\tEta vs Phi [Cooling]\n",
      "  KEY: TH2F\t451;1\tR vs z [Cooling]\n",
      "  KEY: TH2F\t460;1\tMB prof local R  z [Cooling]\n",
      "  KEY: TH2F\t461;1\tR vs z [Cooling]\n",
      "  KEY: TH2F\t531;1\tEta vs Phi [Electronics]\n",
      "  KEY: TH2F\t551;1\tR vs z [Electronics]\n",
      "  KEY: TH2F\t560;1\tMB prof local R  z [Electronics]\n",
      "  KEY: TH2F\t561;1\tR vs z [Electronics]\n",
      "  KEY: TH2F\t631;1\tEta vs Phi [Other]\n",
      "  KEY: TH2F\t651;1\tR vs z [Other]\n",
      "  KEY: TH2F\t660;1\tMB prof local R  z [Other]\n",
      "  KEY: TH2F\t661;1\tR vs z [Other]\n",
      "  KEY: TH2F\t731;1\tEta vs Phi [Air]\n",
      "  KEY: TH2F\t751;1\tR vs z [Air]\n",
      "  KEY: TH2F\t760;1\tMB prof local R  z [Air]\n",
      "  KEY: TH2F\t761;1\tR vs z [Air]\n",
      "  KEY: TH2F\t999;1\tTot track length for MB\n",
      "  KEY: TH2F\t1031;1\tEta vs Phi \n",
      "  KEY: TH2F\t1051;1\tR vs z \n",
      "  KEY: TH2F\t1060;1\tMB prof local R  z\n",
      "  KEY: TH2F\t1061;1\tR vs z \n",
      "  KEY: TH2F\t1131;1\tEta vs Phi [Support]\n",
      "  KEY: TH2F\t1151;1\tR vs z [Support]\n",
      "  KEY: TH2F\t1160;1\tMB prof local R  z [Support]\n",
      "  KEY: TH2F\t1161;1\tR vs z [Support]\n",
      "  KEY: TH2F\t1231;1\tEta vs Phi [Sensitive]\n",
      "  KEY: TH2F\t1251;1\tR vs z [Sensitive]\n",
      "  KEY: TH2F\t1260;1\tMB prof local R  z [Sensitive]\n",
      "  KEY: TH2F\t1261;1\tR vs z [Sensitive]\n",
      "  KEY: TH2F\t1331;1\tEta vs Phi [Cables]\n",
      "  KEY: TH2F\t1351;1\tR vs z [Cables]\n",
      "  KEY: TH2F\t1360;1\tMB prof local R  z [Cables]\n",
      "  KEY: TH2F\t1361;1\tR vs z [Cables]\n",
      "  KEY: TH2F\t1431;1\tEta vs Phi [Cooling]\n",
      "  KEY: TH2F\t1451;1\tR vs z [Cooling]\n",
      "  KEY: TH2F\t1460;1\tMB prof local R  z [Cooling]\n",
      "  KEY: TH2F\t1461;1\tR vs z [Cooling]\n",
      "  KEY: TH2F\t1531;1\tEta vs Phi [Electronics]\n",
      "  KEY: TH2F\t1551;1\tR vs z [Electronics]\n",
      "  KEY: TH2F\t1560;1\tMB prof local R  z [Electronics]\n",
      "  KEY: TH2F\t1561;1\tR vs z [Electronics]\n",
      "  KEY: TH2F\t1631;1\tEta vs Phi [Other]\n",
      "  KEY: TH2F\t1651;1\tR vs z [Other]\n",
      "  KEY: TH2F\t1660;1\tMB prof local R  z [Other]\n",
      "  KEY: TH2F\t1661;1\tR vs z [Other]\n",
      "  KEY: TH2F\t1731;1\tEta vs Phi [Air]\n",
      "  KEY: TH2F\t1751;1\tR vs z [Air]\n",
      "  KEY: TH2F\t1760;1\tMB prof local R  z [Air]\n",
      "  KEY: TH2F\t1761;1\tR vs z [Air]\n",
      "  KEY: TH2F\t1999;1\tTot track length for l0\n",
      "  KEY: TProfile\t10;1\tMB prof Eta [Total]\n",
      "  KEY: TProfile\t20;1\tMB prof Phi [Total]\n",
      "  KEY: TProfile\t40;1\tMB prof R [Total]\n",
      "  KEY: TProfile\t110;1\tMB prof Eta [Support]\n",
      "  KEY: TProfile\t120;1\tMB prof Phi [Support]\n",
      "  KEY: TProfile\t140;1\tMB prof R [Support]\n",
      "  KEY: TProfile\t210;1\tMB prof Eta [Sensitive]\n",
      "  KEY: TProfile\t220;1\tMB prof Phi [Sensitive]\n",
      "  KEY: TProfile\t240;1\tMB prof R [Sensitive]\n",
      "  KEY: TProfile\t310;1\tMB prof Eta [Cables]\n",
      "  KEY: TProfile\t320;1\tMB prof Phi [Cables]\n",
      "  KEY: TProfile\t340;1\tMB prof R [Cables]\n",
      "  KEY: TProfile\t410;1\tMB prof Eta [Cooling]\n",
      "  KEY: TProfile\t420;1\tMB prof Phi [Cooling]\n",
      "  KEY: TProfile\t440;1\tMB prof R [Cooling]\n",
      "  KEY: TProfile\t510;1\tMB prof Eta [Electronics]\n",
      "  KEY: TProfile\t520;1\tMB prof Phi [Electronics]\n",
      "  KEY: TProfile\t540;1\tMB prof R [Electronics]\n",
      "  KEY: TProfile\t610;1\tMB prof Eta [Other]\n",
      "  KEY: TProfile\t620;1\tMB prof Phi [Other]\n",
      "  KEY: TProfile\t640;1\tMB prof R [Other]\n",
      "  KEY: TProfile\t710;1\tMB prof Eta [Air]\n",
      "  KEY: TProfile\t720;1\tMB prof Phi [Air]\n",
      "  KEY: TProfile\t740;1\tMB prof R [Air]\n",
      "  KEY: TProfile\t1010;1\tMB prof Eta [Total]\n",
      "  KEY: TProfile\t1020;1\tMB prof Phi [Total]\n",
      "  KEY: TProfile\t1040;1\tMB prof R [Total]\n",
      "  KEY: TProfile\t1110;1\tMB prof Eta [Support]\n",
      "  KEY: TProfile\t1120;1\tMB prof Phi [Support]\n",
      "  KEY: TProfile\t1140;1\tMB prof R [Support]\n",
      "  KEY: TProfile\t1210;1\tMB prof Eta [Sensitive]\n",
      "  KEY: TProfile\t1220;1\tMB prof Phi [Sensitive]\n",
      "  KEY: TProfile\t1240;1\tMB prof R [Sensitive]\n",
      "  KEY: TProfile\t1310;1\tMB prof Eta [Cables]\n",
      "  KEY: TProfile\t1320;1\tMB prof Phi [Cables]\n",
      "  KEY: TProfile\t1340;1\tMB prof R [Cables]\n",
      "  KEY: TProfile\t1410;1\tMB prof Eta [Cooling]\n",
      "  KEY: TProfile\t1420;1\tMB prof Phi [Cooling]\n",
      "  KEY: TProfile\t1440;1\tMB prof R [Cooling]\n",
      "  KEY: TProfile\t1510;1\tMB prof Eta [Electronics]\n",
      "  KEY: TProfile\t1520;1\tMB prof Phi [Electronics]\n",
      "  KEY: TProfile\t1540;1\tMB prof R [Electronics]\n",
      "  KEY: TProfile\t1610;1\tMB prof Eta [Other]\n",
      "  KEY: TProfile\t1620;1\tMB prof Phi [Other]\n",
      "  KEY: TProfile\t1640;1\tMB prof R [Other]\n",
      "  KEY: TProfile\t1710;1\tMB prof Eta [Air]\n",
      "  KEY: TProfile\t1720;1\tMB prof Phi [Air]\n",
      "  KEY: TProfile\t1740;1\tMB prof R [Air]\n",
      "  KEY: TProfile2D\t30;1\tMB prof Eta  Phi [Total]\n",
      "  KEY: TProfile2D\t50;1\tMB prof sum R  z [Total]\n",
      "  KEY: TProfile2D\t130;1\tMB prof Eta  Phi [Support]\n",
      "  KEY: TProfile2D\t150;1\tMB prof sum R  z [Support]\n",
      "  KEY: TProfile2D\t230;1\tMB prof Eta  Phi [Sensitive]\n",
      "  KEY: TProfile2D\t250;1\tMB prof sum R  z [Sensitive]\n",
      "  KEY: TProfile2D\t330;1\tMB prof Eta  Phi [Cables]\n",
      "  KEY: TProfile2D\t350;1\tMB prof sum R  z [Cables]\n",
      "  KEY: TProfile2D\t430;1\tMB prof Eta  Phi [Cooling]\n",
      "  KEY: TProfile2D\t450;1\tMB prof sum R  z [Cooling]\n",
      "  KEY: TProfile2D\t530;1\tMB prof Eta  Phi [Electronics]\n",
      "  KEY: TProfile2D\t550;1\tMB prof sum R  z [Electronics]\n",
      "  KEY: TProfile2D\t630;1\tMB prof Eta  Phi [Other]\n",
      "  KEY: TProfile2D\t650;1\tMB prof sum R  z [Other]\n",
      "  KEY: TProfile2D\t730;1\tMB prof Eta  Phi [Air]\n",
      "  KEY: TProfile2D\t750;1\tMB prof sum R  z [Air]\n",
      "  KEY: TProfile2D\t1030;1\tMB prof Eta  Phi [Total]\n",
      "  KEY: TProfile2D\t1050;1\tMB prof sum R  z [Total]\n",
      "  KEY: TProfile2D\t1130;1\tMB prof Eta  Phi [Support]\n",
      "  KEY: TProfile2D\t1150;1\tMB prof sum R  z [Support]\n",
      "  KEY: TProfile2D\t1230;1\tMB prof Eta  Phi [Sensitive]\n",
      "  KEY: TProfile2D\t1250;1\tMB prof sum R  z [Sensitive]\n",
      "  KEY: TProfile2D\t1330;1\tMB prof Eta  Phi [Cables]\n",
      "  KEY: TProfile2D\t1350;1\tMB prof sum R  z [Cables]\n",
      "  KEY: TProfile2D\t1430;1\tMB prof Eta  Phi [Cooling]\n",
      "  KEY: TProfile2D\t1450;1\tMB prof sum R  z [Cooling]\n",
      "  KEY: TProfile2D\t1530;1\tMB prof Eta  Phi [Electronics]\n",
      "  KEY: TProfile2D\t1550;1\tMB prof sum R  z [Electronics]\n",
      "  KEY: TProfile2D\t1630;1\tMB prof Eta  Phi [Other]\n",
      "  KEY: TProfile2D\t1650;1\tMB prof sum R  z [Other]\n",
      "  KEY: TProfile2D\t1730;1\tMB prof Eta  Phi [Air]\n",
      "  KEY: TProfile2D\t1750;1\tMB prof sum R  z [Air]\n"
     ]
    }
   ],
   "source": [
    "infile_12 = ROOT.TFile (\"/afs/cern.ch/user/s/sraj/GeometryTask/CMSSW_12_4_14/src/Validation/Geometry/test/matbdg_Tracker_Extended2017Plan1.root \",\" READ \")\n",
    "infile_12.ls();"
   ]
  },
  {
   "cell_type": "code",
   "execution_count": 12,
   "metadata": {},
   "outputs": [
    {
     "name": "stdout",
     "output_type": "stream",
     "text": [
      "TFile**\t\t/eos/user/s/sraj/Work_/CUA_20--/Project_Material_Validation_V1/matbdg_Tracker.root\t\n",
      " TFile*\t\t/eos/user/s/sraj/Work_/CUA_20--/Project_Material_Validation_V1/matbdg_Tracker.root\t\n",
      "  KEY: TH1F\t11;1\tEta \n",
      "  KEY: TH1F\t21;1\tPhi \n",
      "  KEY: TH1F\t41;1\tR \n",
      "  KEY: TH1F\t111;1\tEta [Support]\n",
      "  KEY: TH1F\t121;1\tPhi [Support]\n",
      "  KEY: TH1F\t141;1\tR [Support]\n",
      "  KEY: TH1F\t211;1\tEta [Sensitive]\n",
      "  KEY: TH1F\t221;1\tPhi [Sensitive]\n",
      "  KEY: TH1F\t241;1\tR [Sensitive]\n",
      "  KEY: TH1F\t311;1\tEta [Cables]\n",
      "  KEY: TH1F\t321;1\tPhi [Cables]\n",
      "  KEY: TH1F\t341;1\tR [Cables]\n",
      "  KEY: TH1F\t411;1\tEta [Cooling]\n",
      "  KEY: TH1F\t421;1\tPhi [Cooling]\n",
      "  KEY: TH1F\t441;1\tR [Cooling]\n",
      "  KEY: TH1F\t511;1\tEta [Electronics]\n",
      "  KEY: TH1F\t521;1\tPhi [Electronics]\n",
      "  KEY: TH1F\t541;1\tR [Electronics]\n",
      "  KEY: TH1F\t611;1\tEta [Other]\n",
      "  KEY: TH1F\t621;1\tPhi [Other]\n",
      "  KEY: TH1F\t641;1\tR [Other]\n",
      "  KEY: TH1F\t711;1\tEta [Air]\n",
      "  KEY: TH1F\t721;1\tPhi [Air]\n",
      "  KEY: TH1F\t741;1\tR [Air]\n",
      "  KEY: TH1F\t1011;1\tEta \n",
      "  KEY: TH1F\t1021;1\tPhi \n",
      "  KEY: TH1F\t1041;1\tR \n",
      "  KEY: TH1F\t1111;1\tEta [Support]\n",
      "  KEY: TH1F\t1121;1\tPhi [Support]\n",
      "  KEY: TH1F\t1141;1\tR [Support]\n",
      "  KEY: TH1F\t1211;1\tEta [Sensitive]\n",
      "  KEY: TH1F\t1221;1\tPhi [Sensitive]\n",
      "  KEY: TH1F\t1241;1\tR [Sensitive]\n",
      "  KEY: TH1F\t1311;1\tEta [Cables]\n",
      "  KEY: TH1F\t1321;1\tPhi [Cables]\n",
      "  KEY: TH1F\t1341;1\tR [Cables]\n",
      "  KEY: TH1F\t1411;1\tEta [Cooling]\n",
      "  KEY: TH1F\t1421;1\tPhi [Cooling]\n",
      "  KEY: TH1F\t1441;1\tR [Cooling]\n",
      "  KEY: TH1F\t1511;1\tEta [Electronics]\n",
      "  KEY: TH1F\t1521;1\tPhi [Electronics]\n",
      "  KEY: TH1F\t1541;1\tR [Electronics]\n",
      "  KEY: TH1F\t1611;1\tEta [Other]\n",
      "  KEY: TH1F\t1621;1\tPhi [Other]\n",
      "  KEY: TH1F\t1641;1\tR [Other]\n",
      "  KEY: TH1F\t1711;1\tEta [Air]\n",
      "  KEY: TH1F\t1721;1\tPhi [Air]\n",
      "  KEY: TH1F\t1741;1\tR [Air]\n",
      "  KEY: TH2F\t31;1\tEta vs Phi \n",
      "  KEY: TH2F\t51;1\tR vs z \n",
      "  KEY: TH2F\t60;1\tMB prof local R  z\n",
      "  KEY: TH2F\t61;1\tR vs z \n",
      "  KEY: TH2F\t131;1\tEta vs Phi [Support]\n",
      "  KEY: TH2F\t151;1\tR vs z [Support]\n",
      "  KEY: TH2F\t160;1\tMB prof local R  z [Support]\n",
      "  KEY: TH2F\t161;1\tR vs z [Support]\n",
      "  KEY: TH2F\t231;1\tEta vs Phi [Sensitive]\n",
      "  KEY: TH2F\t251;1\tR vs z [Sensitive]\n",
      "  KEY: TH2F\t260;1\tMB prof local R  z [Sensitive]\n",
      "  KEY: TH2F\t261;1\tR vs z [Sensitive]\n",
      "  KEY: TH2F\t331;1\tEta vs Phi [Cables]\n",
      "  KEY: TH2F\t351;1\tR vs z [Cables]\n",
      "  KEY: TH2F\t360;1\tMB prof local R  z [Cables]\n",
      "  KEY: TH2F\t361;1\tR vs z [Cables]\n",
      "  KEY: TH2F\t431;1\tEta vs Phi [Cooling]\n",
      "  KEY: TH2F\t451;1\tR vs z [Cooling]\n",
      "  KEY: TH2F\t460;1\tMB prof local R  z [Cooling]\n",
      "  KEY: TH2F\t461;1\tR vs z [Cooling]\n",
      "  KEY: TH2F\t531;1\tEta vs Phi [Electronics]\n",
      "  KEY: TH2F\t551;1\tR vs z [Electronics]\n",
      "  KEY: TH2F\t560;1\tMB prof local R  z [Electronics]\n",
      "  KEY: TH2F\t561;1\tR vs z [Electronics]\n",
      "  KEY: TH2F\t631;1\tEta vs Phi [Other]\n",
      "  KEY: TH2F\t651;1\tR vs z [Other]\n",
      "  KEY: TH2F\t660;1\tMB prof local R  z [Other]\n",
      "  KEY: TH2F\t661;1\tR vs z [Other]\n",
      "  KEY: TH2F\t731;1\tEta vs Phi [Air]\n",
      "  KEY: TH2F\t751;1\tR vs z [Air]\n",
      "  KEY: TH2F\t760;1\tMB prof local R  z [Air]\n",
      "  KEY: TH2F\t761;1\tR vs z [Air]\n",
      "  KEY: TH2F\t999;1\tTot track length for MB\n",
      "  KEY: TH2F\t1031;1\tEta vs Phi \n",
      "  KEY: TH2F\t1051;1\tR vs z \n",
      "  KEY: TH2F\t1060;1\tMB prof local R  z\n",
      "  KEY: TH2F\t1061;1\tR vs z \n",
      "  KEY: TH2F\t1131;1\tEta vs Phi [Support]\n",
      "  KEY: TH2F\t1151;1\tR vs z [Support]\n",
      "  KEY: TH2F\t1160;1\tMB prof local R  z [Support]\n",
      "  KEY: TH2F\t1161;1\tR vs z [Support]\n",
      "  KEY: TH2F\t1231;1\tEta vs Phi [Sensitive]\n",
      "  KEY: TH2F\t1251;1\tR vs z [Sensitive]\n",
      "  KEY: TH2F\t1260;1\tMB prof local R  z [Sensitive]\n",
      "  KEY: TH2F\t1261;1\tR vs z [Sensitive]\n",
      "  KEY: TH2F\t1331;1\tEta vs Phi [Cables]\n",
      "  KEY: TH2F\t1351;1\tR vs z [Cables]\n",
      "  KEY: TH2F\t1360;1\tMB prof local R  z [Cables]\n",
      "  KEY: TH2F\t1361;1\tR vs z [Cables]\n",
      "  KEY: TH2F\t1431;1\tEta vs Phi [Cooling]\n",
      "  KEY: TH2F\t1451;1\tR vs z [Cooling]\n",
      "  KEY: TH2F\t1460;1\tMB prof local R  z [Cooling]\n",
      "  KEY: TH2F\t1461;1\tR vs z [Cooling]\n",
      "  KEY: TH2F\t1531;1\tEta vs Phi [Electronics]\n",
      "  KEY: TH2F\t1551;1\tR vs z [Electronics]\n",
      "  KEY: TH2F\t1560;1\tMB prof local R  z [Electronics]\n",
      "  KEY: TH2F\t1561;1\tR vs z [Electronics]\n",
      "  KEY: TH2F\t1631;1\tEta vs Phi [Other]\n",
      "  KEY: TH2F\t1651;1\tR vs z [Other]\n",
      "  KEY: TH2F\t1660;1\tMB prof local R  z [Other]\n",
      "  KEY: TH2F\t1661;1\tR vs z [Other]\n",
      "  KEY: TH2F\t1731;1\tEta vs Phi [Air]\n",
      "  KEY: TH2F\t1751;1\tR vs z [Air]\n",
      "  KEY: TH2F\t1760;1\tMB prof local R  z [Air]\n",
      "  KEY: TH2F\t1761;1\tR vs z [Air]\n",
      "  KEY: TH2F\t1999;1\tTot track length for l0\n",
      "  KEY: TProfile\t10;1\tMB prof Eta [Total]\n",
      "  KEY: TProfile\t20;1\tMB prof Phi [Total]\n",
      "  KEY: TProfile\t40;1\tMB prof R [Total]\n",
      "  KEY: TProfile\t110;1\tMB prof Eta [Support]\n",
      "  KEY: TProfile\t120;1\tMB prof Phi [Support]\n",
      "  KEY: TProfile\t140;1\tMB prof R [Support]\n",
      "  KEY: TProfile\t210;1\tMB prof Eta [Sensitive]\n",
      "  KEY: TProfile\t220;1\tMB prof Phi [Sensitive]\n",
      "  KEY: TProfile\t240;1\tMB prof R [Sensitive]\n",
      "  KEY: TProfile\t310;1\tMB prof Eta [Cables]\n",
      "  KEY: TProfile\t320;1\tMB prof Phi [Cables]\n",
      "  KEY: TProfile\t340;1\tMB prof R [Cables]\n",
      "  KEY: TProfile\t410;1\tMB prof Eta [Cooling]\n",
      "  KEY: TProfile\t420;1\tMB prof Phi [Cooling]\n",
      "  KEY: TProfile\t440;1\tMB prof R [Cooling]\n",
      "  KEY: TProfile\t510;1\tMB prof Eta [Electronics]\n",
      "  KEY: TProfile\t520;1\tMB prof Phi [Electronics]\n",
      "  KEY: TProfile\t540;1\tMB prof R [Electronics]\n",
      "  KEY: TProfile\t610;1\tMB prof Eta [Other]\n",
      "  KEY: TProfile\t620;1\tMB prof Phi [Other]\n",
      "  KEY: TProfile\t640;1\tMB prof R [Other]\n",
      "  KEY: TProfile\t710;1\tMB prof Eta [Air]\n",
      "  KEY: TProfile\t720;1\tMB prof Phi [Air]\n",
      "  KEY: TProfile\t740;1\tMB prof R [Air]\n",
      "  KEY: TProfile\t1010;1\tMB prof Eta [Total]\n",
      "  KEY: TProfile\t1020;1\tMB prof Phi [Total]\n",
      "  KEY: TProfile\t1040;1\tMB prof R [Total]\n",
      "  KEY: TProfile\t1110;1\tMB prof Eta [Support]\n",
      "  KEY: TProfile\t1120;1\tMB prof Phi [Support]\n",
      "  KEY: TProfile\t1140;1\tMB prof R [Support]\n",
      "  KEY: TProfile\t1210;1\tMB prof Eta [Sensitive]\n",
      "  KEY: TProfile\t1220;1\tMB prof Phi [Sensitive]\n",
      "  KEY: TProfile\t1240;1\tMB prof R [Sensitive]\n",
      "  KEY: TProfile\t1310;1\tMB prof Eta [Cables]\n",
      "  KEY: TProfile\t1320;1\tMB prof Phi [Cables]\n",
      "  KEY: TProfile\t1340;1\tMB prof R [Cables]\n",
      "  KEY: TProfile\t1410;1\tMB prof Eta [Cooling]\n",
      "  KEY: TProfile\t1420;1\tMB prof Phi [Cooling]\n",
      "  KEY: TProfile\t1440;1\tMB prof R [Cooling]\n",
      "  KEY: TProfile\t1510;1\tMB prof Eta [Electronics]\n",
      "  KEY: TProfile\t1520;1\tMB prof Phi [Electronics]\n",
      "  KEY: TProfile\t1540;1\tMB prof R [Electronics]\n",
      "  KEY: TProfile\t1610;1\tMB prof Eta [Other]\n",
      "  KEY: TProfile\t1620;1\tMB prof Phi [Other]\n",
      "  KEY: TProfile\t1640;1\tMB prof R [Other]\n",
      "  KEY: TProfile\t1710;1\tMB prof Eta [Air]\n",
      "  KEY: TProfile\t1720;1\tMB prof Phi [Air]\n",
      "  KEY: TProfile\t1740;1\tMB prof R [Air]\n",
      "  KEY: TProfile2D\t30;1\tMB prof Eta  Phi [Total]\n",
      "  KEY: TProfile2D\t50;1\tMB prof sum R  z [Total]\n",
      "  KEY: TProfile2D\t130;1\tMB prof Eta  Phi [Support]\n",
      "  KEY: TProfile2D\t150;1\tMB prof sum R  z [Support]\n",
      "  KEY: TProfile2D\t230;1\tMB prof Eta  Phi [Sensitive]\n",
      "  KEY: TProfile2D\t250;1\tMB prof sum R  z [Sensitive]\n",
      "  KEY: TProfile2D\t330;1\tMB prof Eta  Phi [Cables]\n",
      "  KEY: TProfile2D\t350;1\tMB prof sum R  z [Cables]\n",
      "  KEY: TProfile2D\t430;1\tMB prof Eta  Phi [Cooling]\n",
      "  KEY: TProfile2D\t450;1\tMB prof sum R  z [Cooling]\n",
      "  KEY: TProfile2D\t530;1\tMB prof Eta  Phi [Electronics]\n",
      "  KEY: TProfile2D\t550;1\tMB prof sum R  z [Electronics]\n",
      "  KEY: TProfile2D\t630;1\tMB prof Eta  Phi [Other]\n",
      "  KEY: TProfile2D\t650;1\tMB prof sum R  z [Other]\n",
      "  KEY: TProfile2D\t730;1\tMB prof Eta  Phi [Air]\n",
      "  KEY: TProfile2D\t750;1\tMB prof sum R  z [Air]\n",
      "  KEY: TProfile2D\t1030;1\tMB prof Eta  Phi [Total]\n",
      "  KEY: TProfile2D\t1050;1\tMB prof sum R  z [Total]\n",
      "  KEY: TProfile2D\t1130;1\tMB prof Eta  Phi [Support]\n",
      "  KEY: TProfile2D\t1150;1\tMB prof sum R  z [Support]\n",
      "  KEY: TProfile2D\t1230;1\tMB prof Eta  Phi [Sensitive]\n",
      "  KEY: TProfile2D\t1250;1\tMB prof sum R  z [Sensitive]\n",
      "  KEY: TProfile2D\t1330;1\tMB prof Eta  Phi [Cables]\n",
      "  KEY: TProfile2D\t1350;1\tMB prof sum R  z [Cables]\n",
      "  KEY: TProfile2D\t1430;1\tMB prof Eta  Phi [Cooling]\n",
      "  KEY: TProfile2D\t1450;1\tMB prof sum R  z [Cooling]\n",
      "  KEY: TProfile2D\t1530;1\tMB prof Eta  Phi [Electronics]\n",
      "  KEY: TProfile2D\t1550;1\tMB prof sum R  z [Electronics]\n",
      "  KEY: TProfile2D\t1630;1\tMB prof Eta  Phi [Other]\n",
      "  KEY: TProfile2D\t1650;1\tMB prof sum R  z [Other]\n",
      "  KEY: TProfile2D\t1730;1\tMB prof Eta  Phi [Air]\n",
      "  KEY: TProfile2D\t1750;1\tMB prof sum R  z [Air]\n"
     ]
    }
   ],
   "source": [
    "infile_10 = ROOT.TFile(\"/eos/user/s/sraj/Work_/CUA_20--/Project_Material_Validation_V1/matbdg_Tracker.root\")\n",
    "infile_10.ls();"
   ]
  },
  {
   "cell_type": "code",
   "execution_count": 13,
   "metadata": {},
   "outputs": [],
   "source": [
    "hist_12_cooling = infile_12.Get(\"410\")\n",
    "hist_10_cooling = infile_10.Get(\"410\")"
   ]
  },
  {
   "cell_type": "code",
   "execution_count": 45,
   "metadata": {},
   "outputs": [],
   "source": [
    "from ROOT import kBlack, kBlue, kRed, kViolet\n",
    "from ROOT import TCanvas, TColor, TGaxis, TH1F, TPad\n"
   ]
  },
  {
   "cell_type": "code",
   "execution_count": 64,
   "metadata": {},
   "outputs": [
    {
     "name": "stderr",
     "output_type": "stream",
     "text": [
      "Warning in <TFile::Append>: Replacing existing TH1: totalMC (Potential memory leak).\n",
      "Warning in <TH1::TH1>: nbins is <=0 - set to nbins = 1\n",
      "Info in <TH1F::Add>: Attempt to add histograms with different number of bins - trying to use TH1::Merge\n",
      "Warning in <TCanvas::Constructor>: Deleting canvas with same name: c1\n",
      "Info in <TCanvas::Print>: pdf file /eos/user/s/sraj/Work_/CUA_20--/Project_Material_Validation_V1/Comparision_CMSSW-10_&_CMSSW-12/Cooling_comaprision_CMSSW_10&12.pdf has been created\n",
      "Info in <TCanvas::Print>: png file /eos/user/s/sraj/Work_/CUA_20--/Project_Material_Validation_V1/Comparision_CMSSW-10_&_CMSSW-12/Cooling_comaprision_CMSSW_10&12.png has been created\n"
     ]
    },
    {
     "data": {
      "image/png": "[encoded data removed]",
      "text/plain": [
       "<IPython.core.display.Image object>"
      ]
     },
     "metadata": {},
     "output_type": "display_data"
    }
   ],
   "source": [
    "hist_12_cooling.SetMarkerStyle(20)\n",
    "hist_12_cooling.SetMarkerSize(1)\n",
    "hist_12_cooling.SetMarkerColor(kBlack)\n",
    "hist_12_cooling.SetLineWidth(1)\n",
    "hist_12_cooling.SetLineColor(kViolet)\n",
    "hist_12_cooling.GetYaxis().SetRangeUser(0.001,1)\n",
    "\n",
    "\n",
    "totalMC= ROOT.TH1F(\"totalMC\", \"Events;DNN score;\",-5,5,250)\n",
    "totalMC.Add(hist_10_cooling)\n",
    "totalMCYield=totalMC.Integral()\n",
    "DataYield= hist_12_cooling.Integral()\n",
    "DataMC_scaleF=DataYield/totalMCYield  \n",
    "\n",
    "\n",
    "hist_10_cooling.Scale(DataMC_scaleF)\n",
    "\n",
    "hist_10_cooling.SetFillColor(7)\n",
    "hist_10_cooling.SetLineColor(kBlue);\n",
    "hist_10_cooling.GetYaxis().SetRangeUser(0.001, 1)\n",
    "\n",
    "stack_I.Add(hist_10_cooling)\n",
    "\n",
    "\n",
    "\n",
    "hRatio = hist_12_cooling.Clone(\"hRatio\");\n",
    "hRatio.Reset();\n",
    "hRatio.Add(hist_12_cooling);\n",
    "hRatio.Divide(hist_10_cooling);\n",
    "hRatio.SetStats(0);\n",
    "hRatio.SetMarkerStyle(20);\n",
    "hRatio.SetMarkerSize(1);\n",
    "hRatio.SetTitle(\"\");\n",
    "\n",
    "\n",
    "hRatio.GetYaxis().SetRangeUser(0.1,2.7);\n",
    "hRatio.GetYaxis().SetTitleOffset(0.4);\n",
    "hRatio.GetYaxis().SetTitleSize(0.13);\n",
    "hRatio.GetXaxis().SetTitleSize(0.12);\n",
    "hRatio.GetXaxis().SetLabelSize(0.10);\n",
    "hRatio.GetYaxis().SetLabelSize(0.10);\n",
    "hRatio.GetYaxis().SetTitle(\"#frac{CMSSW_12}{CMSSW_10}\");\n",
    "hRatio.GetXaxis().SetTitle(\"Comparision\");\n",
    "hRatio.GetXaxis().SetLabelOffset(0.035);\n",
    "hRatio.GetYaxis().SetLabelOffset(0.01);\n",
    "hRatio.GetYaxis().SetNdivisions(5);\n",
    "hRatio.SetMarkerStyle(19);\n",
    "hRatio.SetMarkerSize(0.5);\n",
    "hRatio.SetMarkerColor(kBlack);\n",
    "# hRatio.Fit(\"pol1\")   #It shows the fit \n",
    "\n",
    "c1 = ROOT.TCanvas('c1',\"\",1000,1200)\n",
    "pad1 = ROOT.TPad(\"pad1\",\"pad1\",0,0.3,1.0,1.0);\n",
    "pad1.SetTopMargin(0.090);\n",
    "pad1.SetBottomMargin(0);\n",
    "pad1.SetLeftMargin(0.120);\n",
    "pad1.SetRightMargin(0.070);\n",
    "pad1.SetLogy();\n",
    "pad1.SetTickx();\n",
    "pad1.SetTicky();\n",
    "pad1.Draw();\n",
    "pad1.cd();\n",
    "\n",
    "tex1 = ROOT.TLatex(0.12, 0.94, \"#bf{CMS} #it{Premilinary}\")\n",
    "tex1.SetNDC()\n",
    "tex1.SetTextAlign(13)\n",
    "tex1.SetTextFont(42)\n",
    "tex1.SetTextSize(0.03)\n",
    "tex1.SetLineWidth(2)\n",
    "\n",
    "tex2 = ROOT.TLatex(0.72, 0.94, \"137 fb^{-1} (13 TeV)\")\n",
    "tex2.SetNDC()\n",
    "tex2.SetTextAlign(13)\n",
    "tex2.SetTextFont(42)\n",
    "tex2.SetTextSize(0.03)\n",
    "tex2.SetLineWidth(2)\n",
    "\n",
    "stack_I.Draw(\"hist\")\n",
    "\n",
    "hist_12_cooling.Draw(\"E0 x0 SAME\")\n",
    "\n",
    "# Legend drawing\n",
    "legend = ROOT.TLegend()\n",
    "legend = ROOT.TLegend(0.70,0.79,0.90,0.90)\n",
    "legend.AddEntry(hist_12_cooling, \"Cooling-CMSSW_12X\")\n",
    "legend.AddEntry(hist_10_cooling, \"Cooling-CMSSW-10X\")\n",
    "\n",
    "# canvas.SetLogy()\n",
    "legend.Draw()\n",
    "# canvas.Draw()\n",
    "\n",
    "tex1.Draw()\n",
    "\n",
    "\n",
    "\n",
    "pad2 = TPad(\"pad2\",\"pad2\",0,0,1,0.3);\n",
    "pad2.SetTopMargin(0.1);\n",
    "pad2.SetLeftMargin(0.120);\n",
    "pad2.SetRightMargin(0.070);\n",
    "pad2.SetBottomMargin(0.35);\n",
    "pad2.SetGridy();\n",
    "pad2.SetGridx();\n",
    "pad2.Draw();\n",
    "pad2.cd();\n",
    "\n",
    "hRatio.Draw(\"E0 x0\");\n",
    "c1.Draw()\n",
    "c1.SaveAs(\"/eos/user/s/sraj/Work_/CUA_20--/Project_Material_Validation_V1/Comparision_CMSSW-10_&_CMSSW-12/Cooling_comaprision_CMSSW_10&12.pdf\")\n",
    "c1.SaveAs(\"/eos/user/s/sraj/Work_/CUA_20--/Project_Material_Validation_V1/Comparision_CMSSW-10_&_CMSSW-12/Cooling_comaprision_CMSSW_10&12.png\")"
   ]
  },
  {
   "cell_type": "code",
   "execution_count": null,
   "metadata": {},
   "outputs": [],
   "source": []
  },
  {
   "cell_type": "code",
   "execution_count": null,
   "metadata": {},
   "outputs": [],
   "source": []
  }
 ],
 "metadata": {
  "kernelspec": {
   "display_name": "Python 3",
   "language": "python",
   "name": "python3"
  },
  "language_info": {
   "codemirror_mode": {
    "name": "ipython",
    "version": 3
   },
   "file_extension": ".py",
   "mimetype": "text/x-python",
   "name": "python",
   "nbconvert_exporter": "python",
   "pygments_lexer": "ipython3",
   "version": "3.7.6"
  }
 },
 "nbformat": 4,
 "nbformat_minor": 2
}
